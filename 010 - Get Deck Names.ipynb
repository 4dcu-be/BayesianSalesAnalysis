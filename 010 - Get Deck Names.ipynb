{
 "cells": [
  {
   "cell_type": "code",
   "execution_count": null,
   "id": "9e9069a6",
   "metadata": {},
   "outputs": [
    {
     "name": "stderr",
     "output_type": "stream",
     "text": [
      " 14%|██████████▏                                                            | 2873/19999 [16:35:26<98:58:23, 20.80s/it]"
     ]
    }
   ],
   "source": [
    "import requests\n",
    "from tqdm import tqdm\n",
    "import pandas as pd\n",
    "from time import sleep\n",
    "\n",
    "url = 'https://www.keyforgegame.com/api/decks/?page=<PAGE>&page_size=10&search=&power_level=0,11&chains=0,24&ordering=date&expansion=496'\n",
    "\n",
    "# data = pd.DataFrame(columns=['deck', 'set_id'])\n",
    "data = pd.read_table('./data/deck_names.tab', index_col=0)\n",
    "output = []\n",
    "for i in tqdm(range(1, 20000)):\n",
    "    sleep(20)\n",
    "    response = requests.get(url.replace('<PAGE>', str(i)))\n",
    "    # print json content\n",
    "    response_data = response.json()\n",
    "    if 'data' in response_data.keys():\n",
    "        for d in response_data['data']:\n",
    "            output.append({\n",
    "                'deck': d['name'],\n",
    "                'set_id': d['expansion']\n",
    "            })\n",
    "    else:\n",
    "        print(f\"Error grabbing page {i}\")\n",
    "        print(response_data)\n",
    "    \n",
    "\n",
    "    \n",
    "    data = data.append(output, ignore_index=True)\n",
    "    output = []\n",
    "    data.to_csv('./data/deck_names.tab', sep='\\t')"
   ]
  },
  {
   "cell_type": "code",
   "execution_count": 21,
   "id": "04aab1ca",
   "metadata": {},
   "outputs": [],
   "source": [
    "data.drop_duplicates().to_csv('./data/deck_names.tab', sep='\\t')"
   ]
  },
  {
   "cell_type": "code",
   "execution_count": 22,
   "id": "4113dd3f",
   "metadata": {},
   "outputs": [
    {
     "data": {
      "text/html": [
       "<div>\n",
       "<style scoped>\n",
       "    .dataframe tbody tr th:only-of-type {\n",
       "        vertical-align: middle;\n",
       "    }\n",
       "\n",
       "    .dataframe tbody tr th {\n",
       "        vertical-align: top;\n",
       "    }\n",
       "\n",
       "    .dataframe thead th {\n",
       "        text-align: right;\n",
       "    }\n",
       "</style>\n",
       "<table border=\"1\" class=\"dataframe\">\n",
       "  <thead>\n",
       "    <tr style=\"text-align: right;\">\n",
       "      <th></th>\n",
       "      <th>deck</th>\n",
       "      <th>set_id</th>\n",
       "    </tr>\n",
       "  </thead>\n",
       "  <tbody>\n",
       "    <tr>\n",
       "      <th>0</th>\n",
       "      <td>Zim who is Deliberately Hot</td>\n",
       "      <td>496</td>\n",
       "    </tr>\n",
       "    <tr>\n",
       "      <th>1</th>\n",
       "      <td>Herr U. Quill‑ance</td>\n",
       "      <td>496</td>\n",
       "    </tr>\n",
       "    <tr>\n",
       "      <th>2</th>\n",
       "      <td>Capitol the Bellicose</td>\n",
       "      <td>496</td>\n",
       "    </tr>\n",
       "    <tr>\n",
       "      <th>3</th>\n",
       "      <td>Théo “Domino”, fermier du musée</td>\n",
       "      <td>479</td>\n",
       "    </tr>\n",
       "    <tr>\n",
       "      <th>4</th>\n",
       "      <td>Dounia la liquide, prophétesse de la base</td>\n",
       "      <td>479</td>\n",
       "    </tr>\n",
       "    <tr>\n",
       "      <th>...</th>\n",
       "      <td>...</td>\n",
       "      <td>...</td>\n",
       "    </tr>\n",
       "    <tr>\n",
       "      <th>56740</th>\n",
       "      <td>The Archon that Takes Out Turbulence</td>\n",
       "      <td>452</td>\n",
       "    </tr>\n",
       "    <tr>\n",
       "      <th>56741</th>\n",
       "      <td>\"Long Beard\" Hubyr Rowan</td>\n",
       "      <td>496</td>\n",
       "    </tr>\n",
       "    <tr>\n",
       "      <th>56742</th>\n",
       "      <td>Kamal “Ice” Cesmace</td>\n",
       "      <td>496</td>\n",
       "    </tr>\n",
       "    <tr>\n",
       "      <th>56743</th>\n",
       "      <td>“Bribes” Rashidi, Barracks Biologist</td>\n",
       "      <td>479</td>\n",
       "    </tr>\n",
       "    <tr>\n",
       "      <th>56744</th>\n",
       "      <td>G. Barth, Officer of the Tireless Sewers</td>\n",
       "      <td>479</td>\n",
       "    </tr>\n",
       "  </tbody>\n",
       "</table>\n",
       "<p>56251 rows × 2 columns</p>\n",
       "</div>"
      ],
      "text/plain": [
       "                                            deck  set_id\n",
       "0                    Zim who is Deliberately Hot     496\n",
       "1                             Herr U. Quill‑ance     496\n",
       "2                          Capitol the Bellicose     496\n",
       "3                Théo “Domino”, fermier du musée     479\n",
       "4      Dounia la liquide, prophétesse de la base     479\n",
       "...                                          ...     ...\n",
       "56740       The Archon that Takes Out Turbulence     452\n",
       "56741                   \"Long Beard\" Hubyr Rowan     496\n",
       "56742                        Kamal “Ice” Cesmace     496\n",
       "56743       “Bribes” Rashidi, Barracks Biologist     479\n",
       "56744   G. Barth, Officer of the Tireless Sewers     479\n",
       "\n",
       "[56251 rows x 2 columns]"
      ]
     },
     "execution_count": 22,
     "metadata": {},
     "output_type": "execute_result"
    }
   ],
   "source": [
    "data.drop_duplicates()"
   ]
  }
 ],
 "metadata": {
  "kernelspec": {
   "display_name": "Python 3",
   "language": "python",
   "name": "python3"
  },
  "language_info": {
   "codemirror_mode": {
    "name": "ipython",
    "version": 3
   },
   "file_extension": ".py",
   "mimetype": "text/x-python",
   "name": "python",
   "nbconvert_exporter": "python",
   "pygments_lexer": "ipython3",
   "version": "3.9.5"
  }
 },
 "nbformat": 4,
 "nbformat_minor": 5
}
